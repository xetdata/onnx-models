# xet version 0
filesize = 495536
hash = '425d90e0994a84ada2bf419a7927a2253f065afd6171cae1793dc46d7a61955c'
